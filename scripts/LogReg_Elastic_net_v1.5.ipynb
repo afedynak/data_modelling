{
 "cells": [
  {
   "cell_type": "code",
   "execution_count": null,
   "id": "36831930",
   "metadata": {
    "vscode": {
     "languageId": "plaintext"
    }
   },
   "outputs": [],
   "source": [
    "\n",
    "import numpy as np\n",
    "import pandas as pd\n",
    "import matplotlib.pyplot as plt\n",
    "from sklearn.model_selection import train_test_split, StratifiedKFold, GridSearchCV\n",
    "from sklearn.metrics import accuracy_score, roc_auc_score, confusion_matrix, classification_report\n",
    "from sklearn.preprocessing import OneHotEncoder, StandardScaler\n",
    "from sklearn.compose import ColumnTransformer\n",
    "from sklearn.pipeline import Pipeline\n",
    "import shap"
   ]
  },
  {
   "cell_type": "code",
   "execution_count": null,
   "id": "c243cdce",
   "metadata": {
    "vscode": {
     "languageId": "plaintext"
    }
   },
   "outputs": [],
   "source": [
    "config_file_path = 'config.yml' \n",
    "config = load_config(config_file_path)\n",
    "\n",
    "df = pd.read_csv(\"/Users/afedynak/BAARD/master_sheet.csv\")\n",
    "df.head()\n",
    "\n",
    "# Define target and features\n",
    "target_col = 'week10_remission_flag'\n",
    "X = df.drop(columns=[target_col])  # Features\n",
    "y = df[target_col]  # Target variable\n",
    "\n",
    "# Identify categorical and numerical columns\n",
    "categorical_features = X.select_dtypes(include=['object']).columns  # Categorical columns\n",
    "numerical_features = X.select_dtypes(exclude=['object']).columns  # Numerical columns\n",
    "\n",
    "# Define the columns (for reference)\n",
    "columns = ['age', 'madrs', 'phq9', 'gender', 'race', 'ethnicity', 'education_level', \n",
    "           'medication_group', 'remission_status', 'AIS_01', 'LIS_01', 'MDMIS_01', 'MVCIS_01', \n",
    "           'IMIS_01', 'IL.6', 'gp130', 'IL.8.CXCL.8', 'MIF', 'CCL.2.MCP.1', 'IL.1beta.IL.1F2', \n",
    "           'CCL.20.MIP.3alpha', 'CCL.4.MIP.1beta', 'GM.CSF']\n",
    "\n",
    "categorical = ['gender', 'race', 'ethnicity', 'medication_group', 'remission_status', 'education_level']\n",
    "numerical = [col for col in columns if col not in categorical]\n",
    "\n",
    "# Preprocessing pipeline (scaling numeric and encoding categorical features)\n",
    "preprocessor = ColumnTransformer(\n",
    "    transformers=[\n",
    "        ('num', StandardScaler(), numerical_features),\n",
    "        ('cat', OneHotEncoder(), categorical_features)\n",
    "    ])"
   ]
  },
  {
   "cell_type": "code",
   "execution_count": null,
   "id": "62876b70",
   "metadata": {
    "vscode": {
     "languageId": "plaintext"
    }
   },
   "outputs": [],
   "source": [
    "# Outer loop cross-validation (StratifiedKFold)\n",
    "outer_cv = StratifiedKFold(\n",
    "    config['cross_validation']['n_splits'], \n",
    "    shuffle = config['cross_validation']['shuffle'], \n",
    "    random_state = config['cross_validation']['random_state'])"
   ]
  },
  {
   "cell_type": "code",
   "execution_count": null,
   "id": "4efa4077",
   "metadata": {
    "vscode": {
     "languageId": "plaintext"
    }
   },
   "outputs": [],
   "source": [
    "# Hyperparameter grid for inner loop (GridSearchCV)\n",
    "param_grid = {\n",
    "    'classifier__C': [0.1, 1, 10],  # Regularization strength\n",
    "    'classifier__l1_ratio': [0.1, 0.5, 0.9]  # ElasticNet mixing parameter\n",
    "}"
   ]
  },
  {
   "cell_type": "code",
   "execution_count": null,
   "id": "f385e04f",
   "metadata": {
    "vscode": {
     "languageId": "plaintext"
    }
   },
   "outputs": [],
   "source": [
    "# Start the nested cross-validation\n",
    "outer_results = []  # To store the results from the outer loop\n",
    "\n",
    "for outer_train_idx, outer_test_idx in outer_cv.split(X, y):\n",
    "    # Split data into outer train and test sets\n",
    "    X_train_outer, X_test_outer = X.iloc[outer_train_idx], X.iloc[outer_test_idx]\n",
    "    y_train_outer, y_test_outer = y.iloc[outer_train_idx], y.iloc[outer_test_idx]\n",
    "\n",
    "    # Inner loop cross-validation for hyperparameter tuning (GridSearchCV)\n",
    "    inner_cv = StratifiedKFold(\n",
    "        n_splits = config['cross_validation']['n_splits'], \n",
    "        shuffle = config['cross_validation']['shuffle'],\n",
    "        random_state = config['cross_validation']['random_state'])\n",
    "    \n",
    "    # Create a pipeline with preprocessor and logistic regression model\n",
    "    pipeline = Pipeline(steps=[\n",
    "        ('preprocessor', preprocessor),\n",
    "        ('classifier', LogisticRegression(\n",
    "            penalty = config['model_params']['penalty'],\n",
    "            solver = config['model_params']['solver'], \n",
    "            max_iter = config['model_params']['max_iter'], \n",
    "            random_state = config['model_params']['random_state']\n",
    "        ))\n",
    "    ])\n",
    "    \n",
    "    # GridSearchCV to tune hyperparameters on the inner fold\n",
    "    grid_search = GridSearchCV(pipeline, param_grid, cv=inner_cv, scoring='accuracy', n_jobs=-1)\n",
    "    \n",
    "    # Fit GridSearchCV on the outer training data\n",
    "    grid_search.fit(X_train_outer, y_train_outer)\n",
    "    \n",
    "    # Get the best model from the grid search\n",
    "    best_model = grid_search.best_estimator_\n",
    "    \n",
    "    # Evaluate the model on the outer test data\n",
    "    y_pred_outer = best_model.predict(X_test_outer)\n",
    "    y_pred_proba_outer = best_model.predict_proba(X_test_outer)[:, 1]\n",
    "    \n",
    "    # Calculate metrics for this outer fold\n",
    "    accuracy = accuracy_score(y_test_outer, y_pred_outer)\n",
    "    roc_auc = roc_auc_score(y_test_outer, y_pred_proba_outer)\n",
    "    \n",
    "    # Store the results for each outer fold\n",
    "    outer_results.append((accuracy, roc_auc))\n",
    "    \n",
    "    # Print the results of this outer fold\n",
    "    print(f\"Outer fold results - Accuracy: {accuracy:.4f}, ROC-AUC: {roc_auc:.4f}\")\n",
    "    print(f\"Best Hyperparameters: {grid_search.best_params_}\")"
   ]
  },
  {
   "cell_type": "code",
   "execution_count": null,
   "id": "03c79d51",
   "metadata": {
    "vscode": {
     "languageId": "plaintext"
    }
   },
   "outputs": [],
   "source": [
    "# After looping through all outer folds, calculate the mean performance\n",
    "outer_accuracies = [result[0] for result in outer_results]\n",
    "outer_roc_auc = [result[1] for result in outer_results]\n",
    "\n",
    "print(f\"\\nOverall Cross-Validation Accuracy: {np.mean(outer_accuracies):.4f}\")\n",
    "print(f\"Overall ROC-AUC: {np.mean(outer_roc_auc):.4f}\")\n",
    "print(f\"Standard Deviation of Accuracy: {np.std(outer_accuracies):.4f}\")\n",
    "print(f\"Standard Deviation of ROC-AUC: {np.std(outer_roc_auc):.4f}\")"
   ]
  },
  {
   "cell_type": "code",
   "execution_count": null,
   "id": "92757fbc",
   "metadata": {
    "vscode": {
     "languageId": "plaintext"
    }
   },
   "outputs": [],
   "source": [
    "# SHAP Analysis for model interpretability (using the best model from grid search)\n",
    "X_sample = X.sample(n=100, random_state=42)  # Sample 100 rows for SHAP analysis\n",
    "explainer = shap.Explainer(best_model, preprocessor.transform(X_sample))\n",
    "shap_values = explainer(X_sample)\n",
    "\n",
    "# Plot SHAP summary\n",
    "shap.summary_plot(shap_values, X_sample)"
   ]
  }
 ],
 "metadata": {
  "language_info": {
   "name": "python"
  }
 },
 "nbformat": 4,
 "nbformat_minor": 5
}
