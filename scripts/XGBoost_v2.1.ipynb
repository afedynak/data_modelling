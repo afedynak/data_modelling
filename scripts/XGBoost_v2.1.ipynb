{
 "cells": [
  {
   "cell_type": "code",
   "execution_count": null,
   "id": "e458969f",
   "metadata": {
    "vscode": {
     "languageId": "plaintext"
    }
   },
   "outputs": [],
   "source": [
    "# XGBoost with SHAP Values\n",
    "# Author: Amber Fedynak\n",
    "# Date: March 1, 2025\n",
    "\n",
    "import numpy as np\n",
    "import pandas as pd\n",
    "import xgboost as xgb  # XGBoost for classification\n",
    "import shap  # SHAP for model explainability\n",
    "import matplotlib.pyplot as plt  # For figures\n",
    "\n",
    "# For preprocessing and model evaluation\n",
    "from sklearn.model_selection import train_test_split, cross_val_score, StratifiedKFold\n",
    "from sklearn.metrics import make_scorer\n",
    "from sklearn.preprocessing import OneHotEncoder, StandardScaler  \n",
    "from sklearn.compose import ColumnTransformer  \n",
    "from sklearn.pipeline import Pipeline  \n",
    "from sklearn.metrics import (\n",
    "    accuracy_score, roc_auc_score, confusion_matrix,\n",
    "    classification_report, roc_curve, precision_recall_curve\n",
    ")\n",
    "import shap "
   ]
  },
  {
   "cell_type": "code",
   "execution_count": null,
   "id": "acc2a288",
   "metadata": {
    "vscode": {
     "languageId": "plaintext"
    }
   },
   "outputs": [],
   "source": [
    "# Data Preprocessing \n",
    "df = pd.read_csv(\"/Users/afedynak/master_sheet.csv\")\n",
    "df.head()\n",
    "\n",
    "target_col = 'week10_remission_flag'\n",
    "categorical_features = X.select_dtypes(include=['object']).columns  # Categorical columns\n",
    "numerical_features = X.select_dtypes(exclude=['object']).columns  # Numerical columns\n",
    "\n",
    "columns = [\n",
    "    'age', 'madrs', 'phq9', 'gender', 'race', 'ethnicity', 'education_level', \n",
    "    'medication_group', 'remission_status', 'AIS_01', 'LIS_01', 'MDMIS_01', 'MVCIS_01', \n",
    "    'IMIS_01', 'IL.6', 'gp130', 'IL.8.CXCL.8', 'MIF', 'CCL.2.MCP.1', 'IL.1beta.IL.1F2', \n",
    "    'CCL.20.MIP.3alpha', 'CCL.4.MIP.1beta', 'GM.CSF',\n",
    "    'BMI', 'CRP', 'fasting_glucose', 'insulin_resistance', 'lipid_profile', 'total_cholesterol', \n",
    "    'LDL_cholesterol', 'HDL_cholesterol', 'triglycerides', 'leptin', 'adiponectin', 'visceral_fat', \n",
    "    'eGFR', 'kidney_function', 'systolic_blood_pressure', 'diastolic_blood_pressure', 'heart_rate', \n",
    "    'oxygen_saturation', 'pulmonary_function', 'FVC', 'FEV1', 'peak_flow', 'albumin_to_creatinine_ratio', \n",
    "    'proinflammatory_cytokines', 'autoimmune_marker', 'neurotrophins'\n",
    "]\n",
    "\n",
    "categorical = ['gender', 'race', 'ethnicity', 'medication_group', 'remission_status', 'education_level']\n",
    "numerical = [col for col in columns if col not in categorical]\n",
    "\n",
    "preprocessor = ColumnTransformer(\n",
    "    transformers=[\n",
    "        ('num', StandardScaler(), numerical_features),\n",
    "        ('cat', OneHotEncoder(), categorical_features)\n",
    "    ])"
   ]
  },
  {
   "cell_type": "code",
   "execution_count": null,
   "id": "e26f175e",
   "metadata": {
    "vscode": {
     "languageId": "plaintext"
    }
   },
   "outputs": [],
   "source": [
    "# Train-test split (80-20 split)\n",
    "X_train, X_test, y_train, y_test = train_test_split(X, y, test_size=0.2, random_state=42)\n",
    "\n",
    "# Check the shape of train and test sets\n",
    "print(f\"Training set size: {X_train.shape}, Test set size: {X_test.shape}\")"
   ]
  },
  {
   "cell_type": "code",
   "execution_count": null,
   "id": "213147f7",
   "metadata": {
    "vscode": {
     "languageId": "plaintext"
    }
   },
   "outputs": [],
   "source": [
    "# XGBoost Model with pipeline \n",
    "model = xgb.XGBClassifier(\n",
    "    eval_metric='mlogloss', \n",
    "    use_label_encoder=False,\n",
    "    random_state=42)  \n",
    "\n",
    "# Creating a pipeline\n",
    "pipeline = Pipeline(steps=[\n",
    "    ('preprocessor', preprocessor),\n",
    "    ('model', model)\n",
    "])\n",
    "\n",
    "# Fit the model\n",
    "pipeline.fit(X_train, y_train)"
   ]
  },
  {
   "cell_type": "code",
   "execution_count": null,
   "id": "c1b51ba1",
   "metadata": {
    "vscode": {
     "languageId": "plaintext"
    }
   },
   "outputs": [],
   "source": [
    "# Model Prediction and Evaluation\n",
    "y_pred = pipeline.predict(X_test)\n",
    "y_pred_proba = pipeline.predict_proba(X_test)[:, 1] \n",
    "\n",
    "# Evaluate the model\n",
    "accuracy = accuracy_score(y_test, y_pred)\n",
    "conf_matrix = confusion_matrix(y_test, y_pred)\n",
    "class_report = classification_report(y_test, y_pred)\n",
    "accuracy = accuracy_score(y_test, y_pred)\n",
    "roc_auc = roc_auc_score(y_test, y_pred_proba)\n",
    "\n",
    "# Print evaluation metrics\n",
    "print(f\"Accuracy: {accuracy:.4f}\")\n",
    "print(f\"Confusion Matrix:\\n{conf_matrix}\")\n",
    "print(f\"Classification Report:\\n{class_report}\")\n",
    "print(f\"ROC-AUC: {roc_auc:.4f}\")"
   ]
  },
  {
   "cell_type": "code",
   "execution_count": null,
   "id": "9bd76490",
   "metadata": {
    "vscode": {
     "languageId": "plaintext"
    }
   },
   "outputs": [],
   "source": [
    "# SHAP Analysis\n",
    "explainer = shap.TreeExplainer(pipeline.named_steps['model'])\n",
    "\n",
    "shap_values = explainer.shap_values(X_test)\n",
    "\n",
    "shap.summary_plot(shap_values, X_test)"
   ]
  },
  {
   "cell_type": "code",
   "execution_count": null,
   "id": "f02bb39f",
   "metadata": {
    "vscode": {
     "languageId": "plaintext"
    }
   },
   "outputs": [],
   "source": [
    "# Stratified K-Folds Cross-Validation \n",
    "cv = StratifiedKFold(n_splits=5, shuffle=True, random_state=42)  \n",
    "\n",
    "cv_results = cross_val_score(pipeline, X, y, cv=cv, scoring='accuracy')\n",
    "\n",
    "print(f\"Cross-validation accuracy scores: {cv_results}\")\n",
    "print(f\"Mean accuracy: {cv_results.mean():.3f}\")\n",
    "print(f\"Standard deviation of accuracy: {cv_results.std():.3f}\")\n",
    "\n",
    "y_pred_cv = cross_val_predict(pipeline, X, y, cv=cv)\n",
    "\n",
    "accuracy = accuracy_score(y, y_pred_cv)\n",
    "auc = roc_auc_score(y, pipeline.predict_proba(X)[:, 1])\n"
   ]
  }
 ],
 "metadata": {
  "language_info": {
   "name": "python"
  }
 },
 "nbformat": 4,
 "nbformat_minor": 5
}
